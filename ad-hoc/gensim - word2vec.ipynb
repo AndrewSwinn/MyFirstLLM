{
 "cells": [
  {
   "metadata": {},
   "cell_type": "raw",
   "source": "",
   "id": "31f5f9391d4b2cb5"
  },
  {
   "cell_type": "code",
   "id": "initial_id",
   "metadata": {
    "collapsed": true,
    "ExecuteTime": {
     "end_time": "2025-04-15T10:09:23.229985Z",
     "start_time": "2025-04-15T10:09:23.215619Z"
    }
   },
   "source": [
    "from gensim.test.utils import common_texts\n",
    "from gensim.models import Word2Vec\n",
    "import gensim.downloader\n",
    "\n"
   ],
   "outputs": [],
   "execution_count": 9
  },
  {
   "metadata": {
    "ExecuteTime": {
     "end_time": "2025-04-15T10:14:44.595821Z",
     "start_time": "2025-04-15T10:14:44.592334Z"
    }
   },
   "cell_type": "code",
   "source": "common_texts",
   "id": "b3e5a374566688e6",
   "outputs": [
    {
     "data": {
      "text/plain": [
       "[['human', 'interface', 'computer'],\n",
       " ['survey', 'user', 'computer', 'system', 'response', 'time'],\n",
       " ['eps', 'user', 'interface', 'system'],\n",
       " ['system', 'human', 'system', 'eps'],\n",
       " ['user', 'response', 'time'],\n",
       " ['trees'],\n",
       " ['graph', 'trees'],\n",
       " ['graph', 'minors', 'trees'],\n",
       " ['graph', 'minors', 'survey']]"
      ]
     },
     "execution_count": 13,
     "metadata": {},
     "output_type": "execute_result"
    }
   ],
   "execution_count": 13
  },
  {
   "metadata": {
    "ExecuteTime": {
     "end_time": "2025-04-15T10:15:02.362969Z",
     "start_time": "2025-04-15T10:15:02.351446Z"
    }
   },
   "cell_type": "code",
   "source": [
    "model = Word2Vec(sentences=common_texts, vector_size=100, window=5, min_count=1, workers=4)\n",
    "model.save(\"word2vec.model\")"
   ],
   "id": "9413cadd93f3031a",
   "outputs": [],
   "execution_count": 14
  },
  {
   "metadata": {
    "ExecuteTime": {
     "end_time": "2025-04-15T10:18:49.201255Z",
     "start_time": "2025-04-15T10:18:49.197273Z"
    }
   },
   "cell_type": "code",
   "source": "model.wv.get_vector('graph')",
   "id": "f66759acfd961231",
   "outputs": [
    {
     "data": {
      "text/plain": [
       "array([-8.6196875e-03,  3.6657380e-03,  5.1898835e-03,  5.7419385e-03,\n",
       "        7.4669183e-03, -6.1676754e-03,  1.1056137e-03,  6.0472824e-03,\n",
       "       -2.8400505e-03, -6.1735227e-03, -4.1022300e-04, -8.3689485e-03,\n",
       "       -5.6000124e-03,  7.1045388e-03,  3.3525396e-03,  7.2256695e-03,\n",
       "        6.8002474e-03,  7.5307419e-03, -3.7891543e-03, -5.6180597e-04,\n",
       "        2.3483764e-03, -4.5190323e-03,  8.3887316e-03, -9.8581640e-03,\n",
       "        6.7646410e-03,  2.9144168e-03, -4.9328315e-03,  4.3981876e-03,\n",
       "       -1.7395747e-03,  6.7113843e-03,  9.9648498e-03, -4.3624435e-03,\n",
       "       -5.9933780e-04, -5.6956373e-03,  3.8508223e-03,  2.7866268e-03,\n",
       "        6.8910765e-03,  6.1010956e-03,  9.5384968e-03,  9.2734173e-03,\n",
       "        7.8980681e-03, -6.9895042e-03, -9.1558648e-03, -3.5575271e-04,\n",
       "       -3.0998408e-03,  7.8943167e-03,  5.9385742e-03, -1.5456629e-03,\n",
       "        1.5109634e-03,  1.7900408e-03,  7.8175711e-03, -9.5101865e-03,\n",
       "       -2.0553112e-04,  3.4691966e-03, -9.3897223e-04,  8.3817719e-03,\n",
       "        9.0107834e-03,  6.5365066e-03, -7.1162102e-04,  7.7104042e-03,\n",
       "       -8.5343346e-03,  3.2071066e-03, -4.6379971e-03, -5.0889552e-03,\n",
       "        3.5896183e-03,  5.3703394e-03,  7.7695143e-03, -5.7665063e-03,\n",
       "        7.4333609e-03,  6.6254963e-03, -3.7098003e-03, -8.7456414e-03,\n",
       "        5.4374672e-03,  6.5097557e-03, -7.8755023e-04, -6.7098560e-03,\n",
       "       -7.0859254e-03, -2.4970602e-03,  5.1432536e-03, -3.6652375e-03,\n",
       "       -9.3700597e-03,  3.8267397e-03,  4.8844791e-03, -6.4285635e-03,\n",
       "        1.2085581e-03, -2.0748770e-03,  2.4403334e-05, -9.8835090e-03,\n",
       "        2.6920044e-03, -4.7501065e-03,  1.0876465e-03, -1.5762246e-03,\n",
       "        2.1966731e-03, -7.8815762e-03, -2.7171839e-03,  2.6631986e-03,\n",
       "        5.3466819e-03, -2.3915148e-03, -9.5100943e-03,  4.5058788e-03],\n",
       "      dtype=float32)"
      ]
     },
     "execution_count": 21,
     "metadata": {},
     "output_type": "execute_result"
    }
   ],
   "execution_count": 21
  },
  {
   "metadata": {
    "ExecuteTime": {
     "end_time": "2025-04-15T10:02:38.672291Z",
     "start_time": "2025-04-15T10:02:38.580332Z"
    }
   },
   "cell_type": "code",
   "source": "print(list(gensim.downloader.info()['models'].keys()))",
   "id": "7f29b2fd7127d286",
   "outputs": [
    {
     "name": "stdout",
     "output_type": "stream",
     "text": [
      "['fasttext-wiki-news-subwords-300', 'conceptnet-numberbatch-17-06-300', 'word2vec-ruscorpora-300', 'word2vec-google-news-300', 'glove-wiki-gigaword-50', 'glove-wiki-gigaword-100', 'glove-wiki-gigaword-200', 'glove-wiki-gigaword-300', 'glove-twitter-25', 'glove-twitter-50', 'glove-twitter-100', 'glove-twitter-200', '__testing_word2vec-matrix-synopsis']\n"
     ]
    }
   ],
   "execution_count": 3
  },
  {
   "metadata": {
    "ExecuteTime": {
     "end_time": "2025-04-15T10:08:29.469697Z",
     "start_time": "2025-04-15T10:07:01.643166Z"
    }
   },
   "cell_type": "code",
   "source": [
    "glove_vectors = gensim.downloader.load('glove-twitter-200')\n",
    "\n"
   ],
   "id": "ab506974b5f701df",
   "outputs": [],
   "execution_count": 8
  },
  {
   "metadata": {
    "ExecuteTime": {
     "end_time": "2025-04-15T10:05:55.664560Z",
     "start_time": "2025-04-15T10:05:55.658404Z"
    }
   },
   "cell_type": "code",
   "source": "glove_vectors",
   "id": "499f8960ee47c1d8",
   "outputs": [
    {
     "data": {
      "text/plain": [
       "<gensim.models.keyedvectors.KeyedVectors at 0x754af437cef0>"
      ]
     },
     "execution_count": 5,
     "metadata": {},
     "output_type": "execute_result"
    }
   ],
   "execution_count": 5
  },
  {
   "metadata": {
    "ExecuteTime": {
     "end_time": "2025-04-15T10:05:58.125743Z",
     "start_time": "2025-04-15T10:05:57.405272Z"
    }
   },
   "cell_type": "code",
   "source": "glove_vectors.most_similar('dog')",
   "id": "6845dd01224b0cd9",
   "outputs": [
    {
     "data": {
      "text/plain": [
       "[('dogs', 0.8483485579490662),\n",
       " ('cat', 0.832430362701416),\n",
       " ('puppy', 0.7890411019325256),\n",
       " ('pet', 0.7524258494377136),\n",
       " ('cats', 0.7141677141189575),\n",
       " ('horse', 0.6632055640220642),\n",
       " ('animal', 0.657815158367157),\n",
       " ('kitten', 0.6441184878349304),\n",
       " ('little', 0.632893979549408),\n",
       " ('kid', 0.6253357529640198)]"
      ]
     },
     "execution_count": 6,
     "metadata": {},
     "output_type": "execute_result"
    }
   ],
   "execution_count": 6
  },
  {
   "metadata": {
    "ExecuteTime": {
     "end_time": "2025-04-15T10:06:10.252537Z",
     "start_time": "2025-04-15T10:06:10.196865Z"
    }
   },
   "cell_type": "code",
   "source": [
    "results = glove_vectors.most_similar(positive=['king'], negative=['man'])\n",
    "for result in results:\n",
    "    most_similar_key, similarity = result  # look at the first match\n",
    "    print(f\"{most_similar_key}: {similarity:.4f}\")"
   ],
   "id": "d830704ffa035c5d",
   "outputs": [
    {
     "name": "stdout",
     "output_type": "stream",
     "text": [
      "burguer: 0.4016\n",
      "kester: 0.3675\n",
      "سنتان: 0.3592\n",
      "sejong: 0.3575\n",
      "soopers: 0.3512\n",
      "hrh: 0.3488\n",
      "gabin: 0.3413\n",
      "b.b: 0.3367\n",
      "zamir: 0.3355\n",
      "balthazar: 0.3282\n"
     ]
    }
   ],
   "execution_count": 7
  },
  {
   "metadata": {
    "ExecuteTime": {
     "end_time": "2025-04-10T08:20:57.949375Z",
     "start_time": "2025-04-10T08:20:56.690929Z"
    }
   },
   "cell_type": "code",
   "source": "unknown = king + woman",
   "id": "4d9d941b3a45dcf8",
   "outputs": [
    {
     "ename": "NameError",
     "evalue": "name 'king' is not defined",
     "output_type": "error",
     "traceback": [
      "\u001B[1;31m---------------------------------------------------------------------------\u001B[0m",
      "\u001B[1;31mNameError\u001B[0m                                 Traceback (most recent call last)",
      "Cell \u001B[1;32mIn[9], line 1\u001B[0m\n\u001B[1;32m----> 1\u001B[0m unknown \u001B[38;5;241m=\u001B[39m king \u001B[38;5;241m+\u001B[39m woman\n",
      "\u001B[1;31mNameError\u001B[0m: name 'king' is not defined"
     ]
    }
   ],
   "execution_count": 9
  },
  {
   "metadata": {
    "ExecuteTime": {
     "end_time": "2025-03-31T13:55:34.308322Z",
     "start_time": "2025-03-31T13:55:34.278083Z"
    }
   },
   "cell_type": "code",
   "source": "glove_vectors.most_similar(unknown )",
   "id": "4f8e25911444e5db",
   "outputs": [
    {
     "data": {
      "text/plain": [
       "[('woman', 0.9590349793434143),\n",
       " ('king', 0.9383758902549744),\n",
       " ('called', 0.9263359308242798),\n",
       " ('mother', 0.924109935760498),\n",
       " ('lady', 0.9185255169868469),\n",
       " (\"'s\", 0.9184563159942627),\n",
       " ('and', 0.9166251420974731),\n",
       " ('guy', 0.9140363931655884),\n",
       " ('young', 0.9140011668205261),\n",
       " ('child', 0.9139003157615662)]"
      ]
     },
     "execution_count": 80,
     "metadata": {},
     "output_type": "execute_result"
    }
   ],
   "execution_count": 80
  },
  {
   "metadata": {
    "ExecuteTime": {
     "end_time": "2025-04-15T10:14:05.896666Z",
     "start_time": "2025-04-15T10:14:05.893628Z"
    }
   },
   "cell_type": "code",
   "source": "common_texts",
   "id": "4c1482a3e398abd6",
   "outputs": [
    {
     "data": {
      "text/plain": [
       "[['human', 'interface', 'computer'],\n",
       " ['survey', 'user', 'computer', 'system', 'response', 'time'],\n",
       " ['eps', 'user', 'interface', 'system'],\n",
       " ['system', 'human', 'system', 'eps'],\n",
       " ['user', 'response', 'time'],\n",
       " ['trees'],\n",
       " ['graph', 'trees'],\n",
       " ['graph', 'minors', 'trees'],\n",
       " ['graph', 'minors', 'survey']]"
      ]
     },
     "execution_count": 12,
     "metadata": {},
     "output_type": "execute_result"
    }
   ],
   "execution_count": 12
  },
  {
   "metadata": {},
   "cell_type": "code",
   "outputs": [],
   "execution_count": null,
   "source": "",
   "id": "a1cb5654b1512acc"
  }
 ],
 "metadata": {
  "kernelspec": {
   "display_name": "Python 3",
   "language": "python",
   "name": "python3"
  },
  "language_info": {
   "codemirror_mode": {
    "name": "ipython",
    "version": 2
   },
   "file_extension": ".py",
   "mimetype": "text/x-python",
   "name": "python",
   "nbconvert_exporter": "python",
   "pygments_lexer": "ipython2",
   "version": "2.7.6"
  }
 },
 "nbformat": 4,
 "nbformat_minor": 5
}
