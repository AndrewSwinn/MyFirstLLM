{
 "cells": [
  {
   "metadata": {
    "ExecuteTime": {
     "end_time": "2025-04-30T12:47:51.209439Z",
     "start_time": "2025-04-30T12:46:58.996825Z"
    }
   },
   "cell_type": "code",
   "source": [
    "from   PIL import Image\n",
    "from   transformers import BlipProcessor, BlipForConditionalGeneration"
   ],
   "id": "627d951299c861a7",
   "outputs": [],
   "execution_count": 1
  },
  {
   "metadata": {
    "collapsed": true,
    "ExecuteTime": {
     "end_time": "2025-04-30T12:48:33.084326Z",
     "start_time": "2025-04-30T12:48:32.129140Z"
    }
   },
   "cell_type": "code",
   "source": [
    "#Load Blip Models\n",
    "try:\n",
    "    model = BlipForConditionalGeneration.from_pretrained(\"blip-captioning-base-model\")\n",
    "    processor = BlipProcessor.from_pretrained(\"blip-captioning-base-processor\", use_fast=True)\n",
    "except:\n",
    "    model     = BlipForConditionalGeneration.from_pretrained(\"Salesforce/blip-image-captioning-base\")\n",
    "    processor = BlipProcessor.from_pretrained(\"Salesforce/blip-image-captioning-base\", use_fast=True)\n",
    "    model.save_pretrained(\"blip-captioning-base-model\")\n",
    "    processor.save_pretrained(\"blip-captioning-base-processor\")"
   ],
   "id": "initial_id",
   "outputs": [],
   "execution_count": 2
  },
  {
   "metadata": {
    "ExecuteTime": {
     "end_time": "2025-04-30T12:49:01.831820Z",
     "start_time": "2025-04-30T12:48:58.148518Z"
    }
   },
   "cell_type": "code",
   "source": [
    "image     = Image.open('Luna.jpg').convert('RGB')\n",
    "inputs    = processor(image, return_tensors=\"pt\")\n",
    "out       = model.generate(**inputs)\n",
    "caption    = processor.decode(out[0], skip_special_tokens=True)"
   ],
   "id": "770c83071059eee0",
   "outputs": [],
   "execution_count": 4
  },
  {
   "metadata": {
    "ExecuteTime": {
     "end_time": "2025-04-30T12:49:06.067295Z",
     "start_time": "2025-04-30T12:49:06.056640Z"
    }
   },
   "cell_type": "code",
   "source": "caption",
   "id": "679f031e3cc7fd45",
   "outputs": [
    {
     "data": {
      "text/plain": [
       "'a dog on the beach'"
      ]
     },
     "execution_count": 5,
     "metadata": {},
     "output_type": "execute_result"
    }
   ],
   "execution_count": 5
  },
  {
   "metadata": {},
   "cell_type": "code",
   "outputs": [],
   "execution_count": null,
   "source": "",
   "id": "72e7d169839ce20b"
  }
 ],
 "metadata": {
  "kernelspec": {
   "display_name": "Python 3",
   "language": "python",
   "name": "python3"
  },
  "language_info": {
   "codemirror_mode": {
    "name": "ipython",
    "version": 2
   },
   "file_extension": ".py",
   "mimetype": "text/x-python",
   "name": "python",
   "nbconvert_exporter": "python",
   "pygments_lexer": "ipython2",
   "version": "2.7.6"
  }
 },
 "nbformat": 4,
 "nbformat_minor": 5
}
