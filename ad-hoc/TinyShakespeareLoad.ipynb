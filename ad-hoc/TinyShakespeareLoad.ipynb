{
 "cells": [
  {
   "cell_type": "code",
   "execution_count": 51,
   "id": "initial_id",
   "metadata": {
    "collapsed": true,
    "ExecuteTime": {
     "end_time": "2025-03-17T10:53:44.331426500Z",
     "start_time": "2025-03-17T10:53:44.319412200Z"
    }
   },
   "outputs": [],
   "source": [
    "import os.path\n",
    "import socket\n",
    "import torch\n",
    "import torch.nn as nn\n",
    "from torch.nn import functional as F\n",
    "import numpy as np\n",
    "\n",
    "\n",
    "\n",
    "from torch.utils.data import Dataset\n",
    "\n",
    "if socket.gethostname() == 'LTSSL-sKTPpP5Xl':\n",
    "    data_dir = 'C:\\\\Users\\\\ams90\\\\PycharmProjects\\\\ConceptsBirds\\\\data'\n",
    "elif socket.gethostname() == 'LAPTOP-NA88OLS1':\n",
    "    data_dir = 'D:\\\\data\\\\'\n",
    "else:\n",
    "    data_dir = '/home/bwc/ams90/datasets/caltecBirds/CUB_200_2011'"
   ]
  },
  {
   "cell_type": "code",
   "execution_count": 20,
   "outputs": [],
   "source": [
    "train_file = open(os.path.join(data_dir, 'Text', 'train.csv'))\n",
    "val_file   = open(os.path.join(data_dir, 'Text', 'validation.csv'))\n",
    "test_file  = open(os.path.join(data_dir, 'Text', 'test.csv'))"
   ],
   "metadata": {
    "collapsed": false,
    "ExecuteTime": {
     "end_time": "2025-03-17T10:23:21.159207800Z",
     "start_time": "2025-03-17T10:23:21.154930400Z"
    }
   },
   "id": "5f5b90305753f1a6"
  },
  {
   "cell_type": "code",
   "execution_count": 21,
   "outputs": [],
   "source": [
    "train_text = train_file.read()\n",
    "val_text   = val_file.read()"
   ],
   "metadata": {
    "collapsed": false,
    "ExecuteTime": {
     "end_time": "2025-03-17T10:23:21.740861700Z",
     "start_time": "2025-03-17T10:23:21.734335Z"
    }
   },
   "id": "ffe57f7c93044aeb"
  },
  {
   "cell_type": "code",
   "execution_count": 22,
   "outputs": [
    {
     "name": "stdout",
     "output_type": "stream",
     "text": [
      "text\n",
      "\"First Citizen:\n",
      "Before we proceed any further, hear me speak.\n",
      "\n",
      "All:\n",
      "Speak, speak.\n",
      "\n",
      "First Citizen:\n",
      "You are all resolved rather to die than to famish?\n",
      "\n",
      "All:\n",
      "Resolved. resolved.\n",
      "\n",
      "First Citizen:\n",
      "First, you know Caius Marcius is chief enemy to the people.\n",
      "\n",
      "All:\n",
      "We know't, we know't.\n",
      "\n",
      "First Citizen:\n",
      "Let us kill him, and we'll have corn at our own price.\n",
      "Is't a verdict?\n",
      "\n",
      "All:\n",
      "No more talking on't; let it be done: away, away!\n",
      "\n",
      "Second Citizen:\n",
      "One word, good citizens.\n",
      "\n",
      "First Citizen:\n",
      "We are accounted poor citizens, the patricians good.\n",
      "What authority surfeits on would relieve us: if they\n",
      "would yield us but the superfluity, while it were\n",
      "wholesome, we might guess they relieved us humanely;\n",
      "but they think we are too dear: the leanness that\n",
      "afflicts us, the object of our misery, is as an\n",
      "inventory to particularise their abundance; our\n",
      "sufferance is a gain to them Let us revenge this with\n",
      "our pikes, ere we become rakes: for the gods know I\n",
      "speak this in hunger for bread, not in thirst for reve\n"
     ]
    }
   ],
   "source": [
    "print(train_text[:1000])"
   ],
   "metadata": {
    "collapsed": false,
    "ExecuteTime": {
     "end_time": "2025-03-17T10:23:23.019698900Z",
     "start_time": "2025-03-17T10:23:23.013182Z"
    }
   },
   "id": "971c9dfb90d7b988"
  },
  {
   "cell_type": "code",
   "execution_count": 92,
   "outputs": [
    {
     "name": "stdout",
     "output_type": "stream",
     "text": [
      "Start \n",
      " !\"$&',-.3:;?ABCDEFGHIJKLMNOPQRSTUVWXYZabcdefghijklmnopqrstuvwxyz\n"
     ]
    }
   ],
   "source": [
    "chars = sorted(list(set(train_text)))\n",
    "vocab_size = len(chars)\n",
    "print('Start',''.join(chars))"
   ],
   "metadata": {
    "collapsed": false,
    "ExecuteTime": {
     "end_time": "2025-03-17T11:55:34.291375600Z",
     "start_time": "2025-03-17T11:55:34.278694500Z"
    }
   },
   "id": "51b679c375bd4bdb"
  },
  {
   "cell_type": "code",
   "execution_count": 24,
   "outputs": [],
   "source": [
    "stoi = {ch:i for i, ch in enumerate(chars)} # string to integer encoding scheme\n",
    "itoc = {i:ch for i, ch in enumerate(chars)} # string to integer decoding scheme\n",
    "encode = lambda s: [stoi[c] for c in s]\n",
    "decode = lambda l: ''.join([itoc[i] for i in l])"
   ],
   "metadata": {
    "collapsed": false,
    "ExecuteTime": {
     "end_time": "2025-03-17T10:23:26.728556400Z",
     "start_time": "2025-03-17T10:23:26.705835300Z"
    }
   },
   "id": "25bf9dffe2bbaabd"
  },
  {
   "cell_type": "code",
   "execution_count": 25,
   "outputs": [
    {
     "data": {
      "text/plain": "[47, 48, 1, 59, 47, 44, 57, 44]"
     },
     "execution_count": 25,
     "metadata": {},
     "output_type": "execute_result"
    }
   ],
   "source": [
    "encode('hi there')"
   ],
   "metadata": {
    "collapsed": false,
    "ExecuteTime": {
     "end_time": "2025-03-17T10:23:27.211206600Z",
     "start_time": "2025-03-17T10:23:27.187021800Z"
    }
   },
   "id": "84a0e3c045e75a9c"
  },
  {
   "cell_type": "code",
   "execution_count": 26,
   "outputs": [
    {
     "data": {
      "text/plain": "'hi there'"
     },
     "execution_count": 26,
     "metadata": {},
     "output_type": "execute_result"
    }
   ],
   "source": [
    "decode(encode('hi there'))"
   ],
   "metadata": {
    "collapsed": false,
    "ExecuteTime": {
     "end_time": "2025-03-17T10:23:27.600742100Z",
     "start_time": "2025-03-17T10:23:27.594236600Z"
    }
   },
   "id": "7ede13fe7582d1f6"
  },
  {
   "cell_type": "code",
   "execution_count": 27,
   "outputs": [],
   "source": [
    "train_tokens, val_tokens = encode(train_text), encode(val_text)\n",
    "train_data,   val_data   = torch.tensor(train_tokens, dtype=torch.long), torch.tensor(val_tokens, dtype=torch.long)"
   ],
   "metadata": {
    "collapsed": false,
    "ExecuteTime": {
     "end_time": "2025-03-17T10:23:28.156191300Z",
     "start_time": "2025-03-17T10:23:28.073345500Z"
    }
   },
   "id": "89ffb4aca1d7080f"
  },
  {
   "cell_type": "code",
   "execution_count": 28,
   "outputs": [
    {
     "data": {
      "text/plain": "tensor([59, 44, 63, 59,  0,  3, 19, 48, 57, 58, 59,  1, 16, 48, 59, 48, 65, 44,\n        53, 11,  0, 15, 44, 45, 54, 57, 44,  1, 62, 44,  1, 55, 57, 54, 42, 44,\n        44, 43,  1, 40, 53, 64,  1, 45, 60, 57, 59, 47, 44, 57,  7,  1, 47, 44,\n        40, 57,  1, 52, 44,  1, 58, 55, 44, 40, 50,  9,  0,  0, 14, 51, 51, 11,\n         0, 32, 55, 44, 40, 50,  7,  1, 58, 55, 44, 40, 50,  9,  0,  0, 19, 48,\n        57, 58, 59,  1, 16, 48, 59, 48, 65, 44, 53, 11,  0, 38, 54, 60,  1, 40,\n        57, 44,  1, 40, 51, 51,  1, 57, 44, 58, 54, 51, 61, 44, 43,  1, 57, 40,\n        59, 47, 44, 57,  1, 59, 54,  1, 43, 48, 44,  1, 59, 47, 40, 53,  1, 59,\n        54,  1, 45, 40, 52, 48, 58, 47, 13,  0,  0, 14, 51, 51, 11,  0, 31, 44,\n        58, 54, 51, 61, 44, 43,  9,  1, 57, 44, 58, 54, 51, 61, 44, 43,  9,  0,\n         0, 19, 48, 57, 58, 59,  1, 16, 48, 59, 48, 65, 44, 53, 11,  0, 19, 48,\n        57, 58, 59,  7,  1, 64, 54, 60,  1, 50, 53, 54, 62,  1, 16, 40, 48, 60,\n        58,  1, 26, 40, 57, 42, 48, 60, 58,  1, 48, 58,  1, 42, 47, 48, 44, 45,\n         1, 44, 53, 44, 52, 64,  1, 59, 54,  1, 59, 47, 44,  1, 55, 44, 54, 55,\n        51, 44,  9,  0,  0, 14, 51, 51, 11,  0, 36, 44,  1, 50, 53, 54, 62,  6,\n        59,  7,  1, 62, 44,  1, 50, 53, 54, 62,  6, 59,  9,  0,  0, 19, 48, 57,\n        58, 59,  1, 16, 48, 59, 48, 65, 44, 53, 11,  0, 25, 44, 59,  1, 60, 58,\n         1, 50, 48, 51, 51,  1, 47, 48, 52,  7,  1, 40, 53, 43,  1, 62, 44,  6,\n        51, 51,  1, 47, 40, 61, 44,  1, 42, 54, 57, 53,  1, 40, 59,  1, 54, 60,\n        57,  1, 54, 62, 53,  1, 55, 57, 48, 42, 44,  9,  0, 22, 58,  6, 59,  1,\n        40,  1, 61, 44, 57, 43, 48, 42, 59, 13,  0,  0, 14, 51, 51, 11,  0, 27,\n        54,  1, 52, 54, 57, 44,  1, 59, 40, 51, 50, 48, 53, 46,  1, 54, 53,  6,\n        59, 12,  1, 51, 44, 59,  1, 48, 59,  1, 41, 44,  1, 43, 54, 53, 44, 11,\n         1, 40, 62, 40, 64,  7,  1, 40, 62, 40, 64,  2,  0,  0, 32, 44, 42, 54,\n        53, 43,  1, 16, 48, 59, 48, 65, 44, 53, 11,  0, 28, 53, 44,  1, 62, 54,\n        57, 43,  7,  1, 46, 54, 54, 43,  1, 42, 48, 59, 48, 65, 44, 53, 58,  9,\n         0,  0, 19, 48, 57, 58, 59,  1, 16, 48, 59, 48, 65, 44, 53, 11,  0, 36,\n        44,  1, 40, 57, 44,  1, 40, 42, 42, 54, 60, 53, 59, 44, 43,  1, 55, 54,\n        54, 57,  1, 42, 48, 59, 48, 65, 44, 53, 58,  7,  1, 59, 47, 44,  1, 55,\n        40, 59, 57, 48, 42, 48, 40, 53, 58,  1, 46, 54, 54, 43,  9,  0, 36, 47,\n        40, 59,  1, 40, 60, 59, 47, 54, 57, 48, 59, 64,  1, 58, 60, 57, 45, 44,\n        48, 59, 58,  1, 54, 53,  1, 62, 54, 60, 51, 43,  1, 57, 44, 51, 48, 44,\n        61, 44,  1, 60, 58, 11,  1, 48, 45,  1, 59, 47, 44, 64,  0, 62, 54, 60,\n        51, 43,  1, 64, 48, 44, 51, 43,  1, 60, 58,  1, 41, 60, 59,  1, 59, 47,\n        44,  1, 58, 60, 55, 44, 57, 45, 51, 60, 48, 59, 64,  7,  1, 62, 47, 48,\n        51, 44,  1, 48, 59,  1, 62, 44, 57, 44,  0, 62, 47, 54, 51, 44, 58, 54,\n        52, 44,  7,  1, 62, 44,  1, 52, 48, 46, 47, 59,  1, 46, 60, 44, 58, 58,\n         1, 59, 47, 44, 64,  1, 57, 44, 51, 48, 44, 61, 44, 43,  1, 60, 58,  1,\n        47, 60, 52, 40, 53, 44, 51, 64, 12,  0, 41, 60, 59,  1, 59, 47, 44, 64,\n         1, 59, 47, 48, 53, 50,  1, 62, 44,  1, 40, 57, 44,  1, 59, 54, 54,  1,\n        43, 44, 40, 57, 11,  1, 59, 47, 44,  1, 51, 44, 40, 53, 53, 44, 58, 58,\n         1, 59, 47, 40, 59,  0, 40, 45, 45, 51, 48, 42, 59, 58,  1, 60, 58,  7,\n         1, 59, 47, 44,  1, 54, 41, 49, 44, 42, 59,  1, 54, 45,  1, 54, 60, 57,\n         1, 52, 48, 58, 44, 57, 64,  7,  1, 48, 58,  1, 40, 58,  1, 40, 53,  0,\n        48, 53, 61, 44, 53, 59, 54, 57, 64,  1, 59, 54,  1, 55, 40, 57, 59, 48,\n        42, 60, 51, 40, 57, 48, 58, 44,  1, 59, 47, 44, 48, 57,  1, 40, 41, 60,\n        53, 43, 40, 53, 42, 44, 12,  1, 54, 60, 57,  0, 58, 60, 45, 45, 44, 57,\n        40, 53, 42, 44,  1, 48, 58,  1, 40,  1, 46, 40, 48, 53,  1, 59, 54,  1,\n        59, 47, 44, 52,  1, 25, 44, 59,  1, 60, 58,  1, 57, 44, 61, 44, 53, 46,\n        44,  1, 59, 47, 48, 58,  1, 62, 48, 59, 47,  0, 54, 60, 57,  1, 55, 48,\n        50, 44, 58,  7,  1, 44, 57, 44,  1, 62, 44,  1, 41, 44, 42, 54, 52, 44,\n         1, 57, 40, 50, 44, 58, 11,  1, 45, 54, 57,  1, 59, 47, 44,  1, 46, 54,\n        43, 58,  1, 50, 53, 54, 62,  1, 22,  0, 58, 55, 44, 40, 50,  1, 59, 47,\n        48, 58,  1, 48, 53,  1, 47, 60, 53, 46, 44, 57,  1, 45, 54, 57,  1, 41,\n        57, 44, 40, 43,  7,  1, 53, 54, 59,  1, 48, 53,  1, 59, 47, 48, 57, 58,\n        59,  1, 45, 54, 57,  1, 57, 44, 61, 44])"
     },
     "execution_count": 28,
     "metadata": {},
     "output_type": "execute_result"
    }
   ],
   "source": [
    "train_data[:1000]"
   ],
   "metadata": {
    "collapsed": false,
    "ExecuteTime": {
     "end_time": "2025-03-17T10:23:28.649271200Z",
     "start_time": "2025-03-17T10:23:28.636388200Z"
    }
   },
   "id": "e9f736671d592e9a"
  },
  {
   "cell_type": "code",
   "execution_count": 29,
   "outputs": [
    {
     "data": {
      "text/plain": "tensor([59, 44, 63, 59,  0,  3, 19, 48, 57])"
     },
     "execution_count": 29,
     "metadata": {},
     "output_type": "execute_result"
    }
   ],
   "source": [
    "block_size = 8\n",
    "train_data[:block_size+1]"
   ],
   "metadata": {
    "collapsed": false,
    "ExecuteTime": {
     "end_time": "2025-03-17T10:23:30.613642300Z",
     "start_time": "2025-03-17T10:23:30.599237100Z"
    }
   },
   "id": "5c735b2f18d0b520"
  },
  {
   "cell_type": "code",
   "execution_count": 30,
   "outputs": [
    {
     "name": "stdout",
     "output_type": "stream",
     "text": [
      "tensor([59]) tensor(44)\n",
      "tensor([59, 44]) tensor(63)\n",
      "tensor([59, 44, 63]) tensor(59)\n",
      "tensor([59, 44, 63, 59]) tensor(0)\n",
      "tensor([59, 44, 63, 59,  0]) tensor(3)\n",
      "tensor([59, 44, 63, 59,  0,  3]) tensor(19)\n",
      "tensor([59, 44, 63, 59,  0,  3, 19]) tensor(48)\n",
      "tensor([59, 44, 63, 59,  0,  3, 19, 48]) tensor(57)\n"
     ]
    }
   ],
   "source": [
    "x = train_data[:block_size]\n",
    "y = train_data[1:block_size+1]\n",
    "for t in range(block_size):\n",
    "    context = x[:t+1]\n",
    "    target  = y[t]\n",
    "    print(context, target)\n",
    "    "
   ],
   "metadata": {
    "collapsed": false,
    "ExecuteTime": {
     "end_time": "2025-03-17T10:23:31.185776600Z",
     "start_time": "2025-03-17T10:23:31.179880300Z"
    }
   },
   "id": "d1b8a948287313c3"
  },
  {
   "cell_type": "code",
   "execution_count": 36,
   "outputs": [
    {
     "data": {
      "text/plain": "(tensor([[24, 22, 27, 20,  1, 21, 18, 27],\n         [52,  9,  0,  0, 14, 18, 43, 48],\n         [47,  1, 47, 48, 52,  1, 59, 54],\n         [43,  7,  0, 33, 47, 44,  1, 52]]),\n tensor([[22, 27, 20,  1, 21, 18, 27, 31],\n         [ 9,  0,  0, 14, 18, 43, 48, 51],\n         [ 1, 47, 48, 52,  1, 59, 54,  1],\n         [ 7,  0, 33, 47, 44,  1, 52, 40]]))"
     },
     "execution_count": 36,
     "metadata": {},
     "output_type": "execute_result"
    }
   ],
   "source": [
    "batch_size, block_size = 4,8\n",
    "def get_batch(split):\n",
    "    data = train_data if split == 'train' else val_data\n",
    "    ix = torch.randint(high=(len(data) - block_size), size=(batch_size,))\n",
    "    x =   torch.stack([data[i  :   i + block_size    ] for i in ix])\n",
    "    y =   torch.stack([data[i + 1: i + block_size + 1] for i in ix])\n",
    "    return x, y\n",
    "xb, yb = get_batch('train')\n",
    "\n",
    "xb, yb\n"
   ],
   "metadata": {
    "collapsed": false,
    "ExecuteTime": {
     "end_time": "2025-03-17T10:33:47.107396900Z",
     "start_time": "2025-03-17T10:33:47.101057600Z"
    }
   },
   "id": "d8effe3d7f21dbea"
  },
  {
   "cell_type": "code",
   "execution_count": 50,
   "outputs": [
    {
     "name": "stdout",
     "output_type": "stream",
     "text": [
      "when the input is [24] the target is 22\n",
      "when the input is [24, 22] the target is 27\n",
      "when the input is [24, 22, 27] the target is 20\n",
      "when the input is [24, 22, 27, 20] the target is 1\n",
      "when the input is [24, 22, 27, 20, 1] the target is 21\n",
      "when the input is [24, 22, 27, 20, 1, 21] the target is 18\n",
      "when the input is [24, 22, 27, 20, 1, 21, 18] the target is 27\n",
      "when the input is [24, 22, 27, 20, 1, 21, 18, 27] the target is 31\n",
      "when the input is [52] the target is 9\n",
      "when the input is [52, 9] the target is 0\n",
      "when the input is [52, 9, 0] the target is 0\n",
      "when the input is [52, 9, 0, 0] the target is 14\n",
      "when the input is [52, 9, 0, 0, 14] the target is 18\n",
      "when the input is [52, 9, 0, 0, 14, 18] the target is 43\n",
      "when the input is [52, 9, 0, 0, 14, 18, 43] the target is 48\n",
      "when the input is [52, 9, 0, 0, 14, 18, 43, 48] the target is 51\n",
      "when the input is [47] the target is 1\n",
      "when the input is [47, 1] the target is 47\n",
      "when the input is [47, 1, 47] the target is 48\n",
      "when the input is [47, 1, 47, 48] the target is 52\n",
      "when the input is [47, 1, 47, 48, 52] the target is 1\n",
      "when the input is [47, 1, 47, 48, 52, 1] the target is 59\n",
      "when the input is [47, 1, 47, 48, 52, 1, 59] the target is 54\n",
      "when the input is [47, 1, 47, 48, 52, 1, 59, 54] the target is 1\n",
      "when the input is [43] the target is 7\n",
      "when the input is [43, 7] the target is 0\n",
      "when the input is [43, 7, 0] the target is 33\n",
      "when the input is [43, 7, 0, 33] the target is 47\n",
      "when the input is [43, 7, 0, 33, 47] the target is 44\n",
      "when the input is [43, 7, 0, 33, 47, 44] the target is 1\n",
      "when the input is [43, 7, 0, 33, 47, 44, 1] the target is 52\n",
      "when the input is [43, 7, 0, 33, 47, 44, 1, 52] the target is 40\n"
     ]
    }
   ],
   "source": [
    "for b in range(batch_size):\n",
    "    for t in range(block_size):\n",
    "        context = xb[b, :t+1]\n",
    "        target  = yb[b, t]\n",
    "        print(f\"when the input is {context.tolist()} the target is {target}\")\n",
    "        "
   ],
   "metadata": {
    "collapsed": false,
    "ExecuteTime": {
     "end_time": "2025-03-17T10:41:33.562570900Z",
     "start_time": "2025-03-17T10:41:33.558047800Z"
    }
   },
   "id": "3fb6e055e30cfebe"
  },
  {
   "cell_type": "code",
   "execution_count": 87,
   "outputs": [
    {
     "name": "stdout",
     "output_type": "stream",
     "text": [
      "torch.Size([32, 66])\n"
     ]
    }
   ],
   "source": [
    "class BigramLanguageModel(nn.Module):\n",
    "    \n",
    "    def __init__(self, vocab_size):#\n",
    "        super().__init__()\n",
    "        # each token directy reads the logits for the next token from a lookup table\n",
    "        self.token_embedding_table = nn.Embedding(vocab_size, vocab_size)\n",
    "        \n",
    "    def forward(self, idx, targets=None):\n",
    "        #idx and targets are tensors with dimensions (batch_size, block_size)\n",
    "\n",
    "        # logits is tensor with dimensions (batch_size, block_size, vocab_size)\n",
    "        logits = self.token_embedding_table(idx)\n",
    "       \n",
    "        \n",
    "        \n",
    "        if targets is None:\n",
    "            loss = None\n",
    "        else:\n",
    "            b, t, c = logits.shape\n",
    "            logits  = logits.view(b * t, c)\n",
    "            targets = targets.view(-1)\n",
    "            logits  = logits.view(b * t, c)\n",
    "            loss   = F.cross_entropy(logits, targets)\n",
    "            \n",
    "        return logits, loss\n",
    "        \n",
    "    def generate(self, idx, max_new_tokens):\n",
    "        for _ in range(max_new_tokens):\n",
    "            #idx is tensor with dimensions (batch_size, block_size)\n",
    "            logits, loss = self(idx)\n",
    "            #focus on the last character\n",
    "            logits = logits[:, -1, :]\n",
    "            probs = F.softmax(logits, dim=-1)\n",
    "            #samples from the probability distribution.\n",
    "            idx_next = torch.multinomial(input=probs, num_samples=1)\n",
    "            idx = torch.cat((idx, idx_next), dim=1)\n",
    "        return idx\n",
    "    \n",
    "m = BigramLanguageModel(vocab_size)\n",
    "logits, loss = m(xb, yb)\n",
    "print(logits.shape)"
   ],
   "metadata": {
    "collapsed": false,
    "ExecuteTime": {
     "end_time": "2025-03-17T11:50:58.041591100Z",
     "start_time": "2025-03-17T11:50:58.031053300Z"
    }
   },
   "id": "411438d96af1b34"
  },
  {
   "cell_type": "code",
   "execution_count": 93,
   "outputs": [
    {
     "name": "stdout",
     "output_type": "stream",
     "text": [
      "\n",
      "BQP\"VpQmdP:OY&,ZDDffjzP\"TDjNa.lhUe'HV-rorxZOJQtlzY oYVY\"tUk;UADM;HpdF cSJQ,WFwxYXuclgJnHuRSJNb&\n",
      "?ITM\n"
     ]
    }
   ],
   "source": [
    "print(decode(m.generate(idx=torch.zeros((1,1), dtype=torch.long), max_new_tokens=100)[0].tolist()))"
   ],
   "metadata": {
    "collapsed": false,
    "ExecuteTime": {
     "end_time": "2025-03-17T11:55:47.789401700Z",
     "start_time": "2025-03-17T11:55:47.775705300Z"
    }
   },
   "id": "91c1f16379b8894d"
  },
  {
   "cell_type": "code",
   "execution_count": 96,
   "outputs": [],
   "source": [
    "optimizer = torch.optim.AdamW(m.parameters(), lr=1e-3)"
   ],
   "metadata": {
    "collapsed": false,
    "ExecuteTime": {
     "end_time": "2025-03-17T11:59:15.373999800Z",
     "start_time": "2025-03-17T11:59:11.999241800Z"
    }
   },
   "id": "2ba137c765f8216e"
  },
  {
   "cell_type": "code",
   "execution_count": 101,
   "outputs": [
    {
     "name": "stdout",
     "output_type": "stream",
     "text": [
      "2.4722740650177\n"
     ]
    }
   ],
   "source": [
    "batch_size = 32\n",
    "for steps in range(10000):\n",
    "    xb, yb = get_batch('train')\n",
    "    logits, loss = m(xb, yb)\n",
    "    optimizer.zero_grad(set_to_none=True)\n",
    "    loss.backward()\n",
    "    optimizer.step()\n",
    "print(loss.item())"
   ],
   "metadata": {
    "collapsed": false,
    "ExecuteTime": {
     "end_time": "2025-03-17T12:02:47.257582600Z",
     "start_time": "2025-03-17T12:02:35.290759300Z"
    }
   },
   "id": "6193012b0c9dafc4"
  },
  {
   "cell_type": "code",
   "execution_count": 102,
   "outputs": [
    {
     "name": "stdout",
     "output_type": "stream",
     "text": [
      "\n",
      "wer thad nbrear a:\n",
      "REENangrat at, st ilend ct whillld IARO,\n",
      "Heg gheee cosom. onges d ur toon!\n",
      "NUKE:\n"
     ]
    }
   ],
   "source": [
    "print(decode(m.generate(idx=torch.zeros((1,1), dtype=torch.long), max_new_tokens=100)[0].tolist()))"
   ],
   "metadata": {
    "collapsed": false,
    "ExecuteTime": {
     "end_time": "2025-03-17T12:02:56.522273600Z",
     "start_time": "2025-03-17T12:02:56.499930400Z"
    }
   },
   "id": "ceba66c2c415ec61"
  },
  {
   "cell_type": "code",
   "execution_count": null,
   "outputs": [],
   "source": [],
   "metadata": {
    "collapsed": false
   },
   "id": "daf892f0ced7ea36"
  }
 ],
 "metadata": {
  "kernelspec": {
   "display_name": "Python 3",
   "language": "python",
   "name": "python3"
  },
  "language_info": {
   "codemirror_mode": {
    "name": "ipython",
    "version": 2
   },
   "file_extension": ".py",
   "mimetype": "text/x-python",
   "name": "python",
   "nbconvert_exporter": "python",
   "pygments_lexer": "ipython2",
   "version": "2.7.6"
  }
 },
 "nbformat": 4,
 "nbformat_minor": 5
}
