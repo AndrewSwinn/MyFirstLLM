{
 "cells": [
  {
   "cell_type": "code",
   "id": "initial_id",
   "metadata": {
    "collapsed": true,
    "ExecuteTime": {
     "end_time": "2025-04-24T13:23:21.438673Z",
     "start_time": "2025-04-24T13:23:16.241898Z"
    }
   },
   "source": [
    "import os\n",
    "import requests\n",
    "import time\n",
    "import pickle\n",
    "from   collections import deque\n",
    "from   PIL import Image\n",
    "from   io import BytesIO\n",
    "\n",
    "import   duckduckgo_search as duck\n",
    "\n",
    "from transformers import BlipProcessor, BlipForConditionalGeneration\n",
    "\n",
    "os.environ[\"KMP_DUPLICATE_LIB_OK\"] = \"TRUE\"\n",
    "\n",
    "#Load Blip Models\n",
    "try:\n",
    "    model = BlipForConditionalGeneration.from_pretrained(\"blip-captioning-base-model\")\n",
    "    processor = BlipProcessor.from_pretrained(\"blip-captioning-base-processor\", use_fast=True)\n",
    "except:\n",
    "    model     = BlipForConditionalGeneration.from_pretrained(\"Salesforce/blip-image-captioning-base\")\n",
    "    processor = BlipProcessor.from_pretrained(\"Salesforce/blip-image-captioning-base\", use_fast=True)\n",
    "    model.save_pretrained(\"blip-captioning-base-model\")\n",
    "    processor.save_pretrained(\"blip-captioning-base-processor\")"
   ],
   "outputs": [],
   "execution_count": 1
  },
  {
   "metadata": {
    "ExecuteTime": {
     "end_time": "2025-04-24T13:21:36.332758Z",
     "start_time": "2025-04-24T13:21:36.327226Z"
    }
   },
   "cell_type": "code",
   "source": [
    "max_depth, branching = 10,5\n",
    "visited = set()\n",
    "results = []\n",
    "stack = deque()  \n",
    "stack.append((0, 'dog', None))\n",
    "last_time = time.time()\n",
    "duck_wait = 1"
   ],
   "id": "2b620cac031ee379",
   "outputs": [],
   "execution_count": 2
  },
  {
   "metadata": {
    "ExecuteTime": {
     "end_time": "2025-04-24T13:22:58.174815300Z",
     "start_time": "2025-04-24T13:22:04.091074Z"
    }
   },
   "cell_type": "code",
   "source": [
    "while stack:\n",
    "    \n",
    "    (depth, text, image_url) = stack.pop()  # pop from the end (LIFO)\n",
    "    if depth < max_depth  and text not in visited:\n",
    "        print(depth, text)\n",
    "        visited.add(text)\n",
    "        time.sleep(max(duck_wait - (time.time() - last_time), 0))\n",
    "        results = duck.DDGS().images(keywords=text, max_results=20)\n",
    "        last_time = time.time()\n",
    "        count   = 0\n",
    "        for i, result in enumerate(results):\n",
    "            if count >= branching: break\n",
    "            try:\n",
    "                image_url = result['image']\n",
    "                response = requests.get(image_url)\n",
    "                response.raise_for_status()\n",
    "                image = Image.open(BytesIO(response.content))\n",
    "                inputs = processor(image, return_tensors=\"pt\")\n",
    "                out = model.generate(**inputs)\n",
    "                caption = processor.decode(out[0], skip_special_tokens=True)\n",
    "                stack.append((depth + 1, caption, image_url))\n",
    "                results.append((depth + 1, caption, image_url, image))\n",
    "                count += 1\n",
    "            except:\n",
    "                pass\n",
    "           \n",
    "            "
   ],
   "id": "2a522094653281a8",
   "outputs": [
    {
     "name": "stdout",
     "output_type": "stream",
     "text": [
      "0 dog\n",
      "wait 0\n",
      "1 a small dog laying on the grass\n",
      "wait 0\n",
      "2 a puppy puppy sitting in the grass at sunset - stock image\n",
      "wait 0\n",
      "3 a small white dog sitting in the grass at sunset royalty image\n",
      "wait 0\n"
     ]
    }
   ],
   "execution_count": null
  },
  {
   "metadata": {
    "ExecuteTime": {
     "end_time": "2025-04-24T13:08:38.738623Z",
     "start_time": "2025-04-24T13:08:38.734319Z"
    }
   },
   "cell_type": "code",
   "source": [
    "z = time.time()\n",
    "       "
   ],
   "id": "74b2b3a31f199da5",
   "outputs": [],
   "execution_count": 8
  },
  {
   "metadata": {
    "ExecuteTime": {
     "end_time": "2025-04-24T13:21:53.736285Z",
     "start_time": "2025-04-24T13:21:52.730814Z"
    }
   },
   "cell_type": "code",
   "source": "time.sleep(1)",
   "id": "d2d75f027ab3156b",
   "outputs": [],
   "execution_count": 4
  },
  {
   "metadata": {
    "ExecuteTime": {
     "end_time": "2025-04-24T12:03:40.810678Z",
     "start_time": "2025-04-24T12:03:40.799751Z"
    }
   },
   "cell_type": "code",
   "source": "results[1]",
   "id": "f798beacd6e59537",
   "outputs": [
    {
     "data": {
      "text/plain": [
       "{'title': 'Golden Retriever Wallpaper 4K, Scottish breed dog, Pet dog, 5K',\n",
       " 'image': 'https://4kwallpapers.com/images/wallpapers/golden-retriever-scottish-breed-dog-pet-dog-5k-1170x2532-9108.jpg',\n",
       " 'thumbnail': 'https://tse2.mm.bing.net/th?id=OIP.3ZT4KoP69Pb-e0aVRvcXXQHaQB&pid=Api',\n",
       " 'url': 'https://4kwallpapers.com/animals/golden-retriever-scottish-breed-dog-pet-dog-5k-9108.html',\n",
       " 'height': 2532,\n",
       " 'width': 1170,\n",
       " 'source': 'Bing'}"
      ]
     },
     "execution_count": 5,
     "metadata": {},
     "output_type": "execute_result"
    }
   ],
   "execution_count": 5
  },
  {
   "metadata": {},
   "cell_type": "code",
   "outputs": [],
   "execution_count": null,
   "source": "",
   "id": "4c19df00bf60ef60"
  }
 ],
 "metadata": {
  "kernelspec": {
   "display_name": "Python 3",
   "language": "python",
   "name": "python3"
  },
  "language_info": {
   "codemirror_mode": {
    "name": "ipython",
    "version": 2
   },
   "file_extension": ".py",
   "mimetype": "text/x-python",
   "name": "python",
   "nbconvert_exporter": "python",
   "pygments_lexer": "ipython2",
   "version": "2.7.6"
  }
 },
 "nbformat": 4,
 "nbformat_minor": 5
}
